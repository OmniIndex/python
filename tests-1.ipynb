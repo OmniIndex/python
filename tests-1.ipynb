{
 "cells": [
  {
   "attachments": {},
   "cell_type": "markdown",
   "metadata": {},
   "source": [
    "## Project Details\n",
    "# Testing notebook\n",
    "\n",
    "* add to .gitignore"
   ]
  },
  {
   "attachments": {},
   "cell_type": "markdown",
   "metadata": {},
   "source": [
    "```bash\n",
    " sphinx-build -b html . _build\n",
    " python -m pytest -v .\\tests\\\n",
    " python setup.py sdist bdist_wheel\n",
    " twine upload .\\dist\\*\n",
    "\n",
    " user = omnijames\n",
    " pass = 27TzsBVGVtfe9wp\n",
    " ```"
   ]
  },
  {
   "cell_type": "code",
   "execution_count": null,
   "metadata": {},
   "outputs": [],
   "source": [
    "\"\"\"bash\n",
    " sphinx-build -b html . _build\n",
    " python -m pytest -v .\\tests\\\n",
    " python setup.py sdist bdist_wheel\n",
    " twine upload .\\dist\\*\n",
    "\n",
    " user = omnijames\n",
    " pass = 27TzsBVGVtfe9wp\n",
    " \"\"\""
   ]
  },
  {
   "cell_type": "code",
   "execution_count": 1,
   "metadata": {},
   "outputs": [],
   "source": [
    "import requests\n",
    "import json\n",
    "from omniindex.api import OmniIndexClient\n",
    "import os\n",
    "import pandas as pd\n",
    "import time\n",
    "\n",
    "# define constants\n",
    "\n",
    "NODE = os.environ['OI_API_TEST_NODE'] # https://node1.omniindex.xyz/node\n",
    "USER_KEY = os.environ['OI_API_TEST_USER_KEY']\n",
    "USER_DEMO_KEY = os.environ['OI_API_TEST_DEMO_KEY']\n",
    "USER_DEMO = os.environ['OI_API_TEST_USER_DEMO']\n",
    "UNIT_DEMO = os.environ['OI_API_TEST_UNIT_DEMO']\n",
    "USER_DOC = os.environ['OI_API_TEST_USER_DOC'] # 'demonstration'\n",
    "USER_DOC_UNIT = os.environ['OI_API_TEST_USER_DOC_UNIT'] # 'demonstration'\n",
    "USER_DOC_KEY = os.environ['OI_API_TEST_USER_DOC_KEY']\n"
   ]
  },
  {
   "attachments": {},
   "cell_type": "markdown",
   "metadata": {},
   "source": [
    "searchchain"
   ]
  },
  {
   "cell_type": "code",
   "execution_count": null,
   "metadata": {},
   "outputs": [],
   "source": [
    "client = OmniIndexClient(server=\"https://node1.omniindex.xyz/node\",unit_name=USER_DOC_UNIT,api_key=USER_DOC_KEY, block_type=\"Owner\", user=USER_DOC)\n",
    "\n",
    "searchresult = client.get_searchchain(\"true\", \"working with google workspace\", \"fulltext\")\n",
    "print(client.__dict__)\n",
    "print(f\"Here is the search result: \\n {searchresult}\")\n",
    "data = json.loads(searchresult)\n",
    "data_df = pd.DataFrame(data['results'])\n",
    "data_df.head()"
   ]
  },
  {
   "cell_type": "code",
   "execution_count": null,
   "metadata": {},
   "outputs": [],
   "source": [
    "client = OmniIndexClient(server=\"https://node1.omniindex.xyz/node\",unit_name=USER_DOC_UNIT,api_key=USER_DOC_KEY, block_type=\"Owner\", user=USER_DOC)\n",
    "\n",
    "searchresult = client.get_searchchain(\"false\", \"working with google workspace\", \"fulltext\")\n",
    "searchresult"
   ]
  },
  {
   "cell_type": "code",
   "execution_count": null,
   "metadata": {},
   "outputs": [],
   "source": [
    "client = OmniIndexClient(server=\"https://node1.omniindex.xyz/node\",unit_name=USER_DOC_UNIT,api_key=USER_DOC_KEY, block_type=\"Owner\", user=USER_DOC)\n",
    "\n",
    "searchresult = client.get_searchchain(\"true\", \"Simon Bain\", \"files\")\n",
    "data = json.loads(searchresult) \n",
    "data_df = pd.DataFrame(data[\"results\"])\n",
    "data_df"
   ]
  },
  {
   "attachments": {},
   "cell_type": "markdown",
   "metadata": {},
   "source": [
    "getfiles"
   ]
  },
  {
   "cell_type": "code",
   "execution_count": null,
   "metadata": {},
   "outputs": [],
   "source": [
    "client = OmniIndexClient(server=\"https://node1.omniindex.xyz/node\",unit_name='sibain@omniindex.io',api_key='mfNd06J1X1Tfq4c3BlVXbFVBhvYA456O', block_type=\"Owner\", user='DYb1ZlT3UqSOKbEsBUkLB4o9Eqn2')\n",
    "fileresult = client.getfiles(\"true\", \"Dropblock/2023-03-07\")\n",
    "data = json.loads(fileresult)\n",
    "data_df = pd.DataFrame(data['results'])\n",
    "data_df"
   ]
  },
  {
   "cell_type": "code",
   "execution_count": null,
   "metadata": {},
   "outputs": [],
   "source": [
    "client = OmniIndexClient(NODE, USER_DOC_KEY, USER_DOC_UNIT, 'Owner',USER_DOC)\n",
    "fileresult = client.getfiles(\"true\", \"Demo_Docs\")\n",
    "data = json.loads(fileresult)\n",
    "data_df = pd.DataFrame(data['results'])\n",
    "data_df.head()"
   ]
  },
  {
   "attachments": {},
   "cell_type": "markdown",
   "metadata": {},
   "source": [
    "runanalyticsquery"
   ]
  },
  {
   "cell_type": "code",
   "execution_count": null,
   "metadata": {},
   "outputs": [],
   "source": [
    "client = OmniIndexClient(NODE, USER_KEY, 'enronemail', 'Owner', 'enronemail')\n",
    "queryresult = client.run_analytic_query(\"false\", \"SELECT * FROM WHERE contentsearchableowners LIKE '%{enron}%' LIMIT 10 \")\n",
    "data = json.loads(queryresult)\n",
    "data_df = pd.DataFrame(data['results'])\n",
    "# client.__dict__\n",
    "data_df"
   ]
  },
  {
   "cell_type": "code",
   "execution_count": null,
   "metadata": {},
   "outputs": [],
   "source": [
    "client = OmniIndexClient(NODE, USER_KEY, 'enronemail', 'Owner', 'enronemail')\n",
    "query = \"SELECT * FROM WHERE contentsearchableowners LIKE '%{enron}%' LIMIT 10 \"\n",
    "queryresult = client.run_analytic_query(\"true\", query)\n",
    "data = json.loads(queryresult)\n",
    "data_df = pd.DataFrame(data['results'])\n",
    "data"
   ]
  },
  {
   "attachments": {},
   "cell_type": "markdown",
   "metadata": {},
   "source": [
    "Minedata"
   ]
  },
  {
   "cell_type": "code",
   "execution_count": 4,
   "metadata": {},
   "outputs": [
    {
     "data": {
      "text/plain": [
       "''"
      ]
     },
     "execution_count": 4,
     "metadata": {},
     "output_type": "execute_result"
    }
   ],
   "source": [
    "DATE_ADDED = time.strftime(\"%Y-%m-%d %H:%M:%S\", time.gmtime())\n",
    "import datetime\n",
    "\n",
    "STAMP = str(datetime.datetime.now().timestamp() * 1000)\n",
    "JBDAY = \"-190266420000\"\n",
    "client = OmniIndexClient('https://node1.omniindex.xyz/node', 'MjkzMjc5MjU0MjExqw3rty==', 'futurexschools', 'Owner', 'this is me')\n",
    "with open('test.json') as f:\n",
    "    query = json.load(f)\n",
    "\n",
    "query[\"dateAdded\"] = DATE_ADDED\n",
    "query[\"student_id_oid\"] = \"5f9b9b0b0f9e9c0001b0b0b0\"\n",
    "query[\"student_firstNameEncrypt\"] = \"Jamesy\"\n",
    "query[\"student_lastNameEncrypt\"] = \"Stanbridge\"\n",
    "query[\"student_createdAt_date_Encrypt\"] = STAMP\n",
    "query[\"student_updatedAt_date_Encrypt\"] = STAMP\n",
    "query[\"student_dob_date_Encrypt\"] = JBDAY\n",
    "query[\"student_emailEncrypt\"] = \"james@omniindex.io\"\n",
    "\n",
    "\n",
    "new_data = json.dumps(query)\n",
    "post_results = client.post_minedata(\"tis is a key man honestly it is...\", new_data,)\n",
    "post_results\n"
   ]
  }
 ],
 "metadata": {
  "kernelspec": {
   "display_name": "Python 3",
   "language": "python",
   "name": "python3"
  },
  "language_info": {
   "codemirror_mode": {
    "name": "ipython",
    "version": 3
   },
   "file_extension": ".py",
   "mimetype": "text/x-python",
   "name": "python",
   "nbconvert_exporter": "python",
   "pygments_lexer": "ipython3",
   "version": "3.10.7"
  },
  "orig_nbformat": 4
 },
 "nbformat": 4,
 "nbformat_minor": 2
}
