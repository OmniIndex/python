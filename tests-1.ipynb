"""bash
 sphinx-build -b html . _build
 python -m pytest -v .\tests\
 python setup.py sdist bdist_wheel
 twine upload .\dist\*

 user = omnijames
 pass = 27TzsBVGVtfe9wp
 """

import requests
import json
from omniindex.api import OmniIndexClient
import os
import pandas as pd
import time

# define constants

NODE = os.environ['OI_API_TEST_NODE'] # https://node1.omniindex.xyz/node
USER_KEY = os.environ['OI_API_TEST_USER_KEY']
USER_DEMO_KEY = os.environ['OI_API_TEST_DEMO_KEY']
USER_DEMO = os.environ['OI_API_TEST_USER_DEMO']
UNIT_DEMO = os.environ['OI_API_TEST_UNIT_DEMO']
USER_DOC = os.environ['OI_API_TEST_USER_DOC'] # 'demonstration'
USER_DOC_UNIT = os.environ['OI_API_TEST_USER_DOC_UNIT'] # 'demonstration'
USER_DOC_KEY = os.environ['OI_API_TEST_USER_DOC_KEY']
