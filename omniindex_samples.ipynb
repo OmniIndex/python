{
 "cells": [
  {
   "attachments": {},
   "cell_type": "markdown",
   "metadata": {},
   "source": [
    "# OmniIndex\n",
    "## How to use the omniindex connector for python\n",
    "examples of each api call are provided in the following notebook cells\n",
    "\n",
    "written and maintained by: [**@james stanbridge**](mailto:james@omniindex.io)"
   ]
  },
  {
   "cell_type": "code",
   "execution_count": 1,
   "metadata": {},
   "outputs": [],
   "source": [
    "# mandatory cell\n",
    "# expects omniindex==0.1.12 minimum\n",
    "import json\n",
    "from omniindex.api import OmniIndexClient # this will change in future versions to omniindex.connector\n",
    "import os\n",
    "import pandas as pd\n",
    "import time\n"
   ]
  },
  {
   "attachments": {},
   "cell_type": "markdown",
   "metadata": {},
   "source": [
    "if you want to use another method to set your environment variables, you can do so. This is the recommomended method for use with jupyter notebooks"
   ]
  },
  {
   "cell_type": "code",
   "execution_count": 2,
   "metadata": {},
   "outputs": [],
   "source": [
    "SERVER = os.environ['OI_API_TEST_SERVER'] # maps to server\n",
    "API_KEY = os.environ['OI_API_TEST_API_KEY'] # maps to api_key\n",
    "UNIT_NAME = os.environ['OI_API_TEST_UNIT_NAME']# maps to unit_name\n",
    "USER = os.environ['OI_API_TEST_USER'] # maps to user\n",
    "#\n",
    "BLOCK_TYPE = \"Owner\"\n",
    "MASTER_KEY = os.environ['OI_API_MASTER_KEY_DEMO'] # master key for demonstration\n",
    "\n",
    "APIserver = \"https://api.omniindex.xyz/api_v1\""
   ]
  },
  {
   "attachments": {},
   "cell_type": "markdown",
   "metadata": {},
   "source": [
    "Setting up the client:\n",
    "as with all the functions, you need to start with a client object = OmniIndexClient()\n",
    "\n",
    "Parameters\n",
    "- server (str) – The server to connect to. This is the node server for your blockchain\n",
    "- api_key (str) – The api key also know as password for your blockchain\n",
    "- unit_name (str) – The unit name for your blockchain\n",
    "- user (str) – The user name for your blockchain (paired with the api key)\n",
    "- block_type (str) – The block type you want to get the schematic for (typically 'Owner' or 'Global')"
   ]
  },
  {
   "attachments": {},
   "cell_type": "markdown",
   "metadata": {},
   "source": [
    "## get_block_schematic\n",
    "it's useful to know the structure of the block you're working with. This function will return the block schematic for a given block id\n",
    "\n",
    "```python\n",
    "get_block_schematic()\n",
    "```"
   ]
  },
  {
   "cell_type": "code",
   "execution_count": 3,
   "metadata": {},
   "outputs": [
    {
     "data": {
      "text/plain": [
       "'{\\n\"0\" : {\\n\\n\"column_name\": \"addressowners\",\\n\"data_type\": \"text\"\\n},\\n\"1\" : {\\n\\n\"column_name\": \"addresssearchableowners\",\\n\"data_type\": \"text\"\\n},\\n\"2\" : {\\n\\n\"column_name\": \"cc_exp\",\\n\"data_type\": \"text\"\\n},\\n\"3\" : {\\n\\n\"column_name\": \"contentsearchableowners\",\\n\"data_type\": \"text\"\\n},\\n\"4\" : {\\n\\n\"column_name\": \"context\",\\n\"data_type\": \"text\"\\n},\\n\"5\" : {\\n\\n\"column_name\": \"context2\",\\n\"data_type\": \"text\"\\n},\\n\"6\" : {\\n\\n\"column_name\": \"creditowners\",\\n\"data_type\": \"text\"\\n},\\n\"7\" : {\\n\\n\"column_name\": \"creditsearchableowners\",\\n\"data_type\": \"text\"\\n},\\n\"8\" : {\\n\\n\"column_name\": \"dateadded\",\\n\"data_type\": \"text\"\\n},\\n\"9\" : {\\n\\n\"column_name\": \"dobowners\",\\n\"data_type\": \"text\"\\n},\\n\"10\" : {\\n\\n\"column_name\": \"dobsearchableowners\",\\n\"data_type\": \"text\"\\n},\\n\"11\" : {\\n\\n\"column_name\": \"emoji\",\\n\"data_type\": \"text\"\\n},\\n\"12\" : {\\n\\n\"column_name\": \"hash\",\\n\"data_type\": \"character varying\"\\n},\\n\"13\" : {\\n\\n\"column_name\": \"infoowners\",\\n\"data_type\": \"text\"\\n},\\n\"14\" : {\\n\\n\"column_name\": \"infosearchableowners\",\\n\"data_type\": \"text\"\\n},\\n\"15\" : {\\n\\n\"column_name\": \"ipv4owners\",\\n\"data_type\": \"text\"\\n},\\n\"16\" : {\\n\\n\"column_name\": \"ipv4searchableowners\",\\n\"data_type\": \"text\"\\n},\\n\"17\" : {\\n\\n\"column_name\": \"job\",\\n\"data_type\": \"text\"\\n},\\n\"18\" : {\\n\\n\"column_name\": \"nameowners\",\\n\"data_type\": \"text\"\\n},\\n\"19\" : {\\n\\n\"column_name\": \"namesearchableowners\",\\n\"data_type\": \"text\"\\n},\\n\"20\" : {\\n\\n\"column_name\": \"oidxid\",\\n\"data_type\": \"integer\"\\n},\\n\"21\" : {\\n\\n\"column_name\": \"phone\",\\n\"data_type\": \"text\"\\n},\\n\"22\" : {\\n\\n\"column_name\": \"prevhash\",\\n\"data_type\": \"character varying\"\\n},\\n\"23\" : {\\n\\n\"column_name\": \"priorhash\",\\n\"data_type\": \"text\"\\n},\\n\"24\" : {\\n\\n\"column_name\": \"sentiment\",\\n\"data_type\": \"text\"\\n},\\n\"25\" : {\\n\\n\"column_name\": \"sentiment2\",\\n\"data_type\": \"text\"\\n},\\n\"26\" : {\\n\\n\"column_name\": \"uuid\",\\n\"data_type\": \"text\"\\n}\\n\\n}'"
      ]
     },
     "execution_count": 3,
     "metadata": {},
     "output_type": "execute_result"
    }
   ],
   "source": [
    "client = OmniIndexClient(SERVER,API_KEY,UNIT_NAME, BLOCK_TYPE, USER, APIserver)\n",
    "getblock = client.get_block_schematic()\n",
    "getblock\n"
   ]
  },
  {
   "attachments": {},
   "cell_type": "markdown",
   "metadata": {},
   "source": [
    "## run_analytic_query\n",
    "```python\n",
    "run_analytic_query(show_protected, query)\n",
    "```\n",
    "\n",
    "1. Cell shows what a SQL select * query looks like - note that the show_protected parameter is set to true, which means you will get the protected fields unredacted\n",
    "2. Cell shows how to SQL select a COUNT of the number of records in the block"
   ]
  },
  {
   "cell_type": "code",
   "execution_count": 6,
   "metadata": {},
   "outputs": [
    {
     "data": {
      "text/plain": [
       "'{ \"results\" : [\\n{\\n\"address\" : \"8629 Yaman Cliffs Apt. 933\\\\nZenginland, MO 37645\",\"cc_exp\" : \"02/29\",\"context\" : \"\",\"context2\" : \"\",\"credit\" : \"4856724439645834546\",\"dateadded\" : \"2023-04-28 10:50:17\",\"dob\" : \"1967-09-04\",\"emoji\" : \"\\\\ud83d\\\\udc68\\\\ud83c\\\\udffe\\\\u200d\\\\ud83e\\\\udd1d\\\\u200d\\\\ud83d\\\\udc68\\\\ud83c\\\\udfff\",\"hash\" : \"D50F0C42E0FED35D7CCC6CE416F18C09F1414FF676AE72AD3A665A0F3D6F8365\",\"info\" : \"Amet provident hic dignissimos et. Quas et possimus reiciendis tempore. Molestiae atque deleniti. Odio mollitia hic at optio. Ipsam reprehenderit sequi tenetur facere nostrum labore. Ipsam et unde expedita minima nihil. Qui cumque facere voluptatibus nam consequuntur corporis. Sed animi ex laborum harum quia quas. Repudiandae repellendus eaque. Impedit labore facilis.\",\"ipv4\" : \"74.135.168.242\",\"job\" : \"Adli tabip\",\"name\" : \"Hudavent \\\\u00c7akar Man\\\\u00e7o Demir\",\"oidxid\" : \"1\",\"phone\" : \"+44(0)808 157 0656\",\"prevhash\" : \"\",\"priorhash\" : \"eve\",\"sentiment\" : \"\",\"sentiment2\" : \"\",\"uuid\" : \"12089cc1-2cbb-45c8-a236-80a4f6e65fd4\"},\\n{\\n\"address\" : \"88293 Carmine Tunnel\",\"cc_exp\" : \"02/29\",\"context\" : \"\",\"context2\" : \"\",\"credit\" : \"0906\",\"dateadded\" : \"2023-04-28T11:04:01.638Z\",\"dob\" : \"Mon Jul 11 2022 04:09:20 GMT+0100 (British Summer Time)\",\"emoji\" : \"http://placeimg.com/640/480/people\",\"hash\" : \"E2A0BD450E80B80A40B76F990EA8EA3FAEF00B9286F5B5F2CB56ACB24BADCD7C\",\"info\" : \"Harum est sunt consequatur. Quam quis fuga eum ullam. Velit et non. Molestiae rerum ratione ea velit voluptatem quia praesentium magni.\\n \\rQui neque et. Quae ipsam a velit quibusdam. Ipsa sed dolores esse nam itaque culpa. Voluptatem sapiente magnam voluptas sed.\\n \\rExcepturi consequatur accusamus. Aut sint doloribus nemo. Quia qui suscipit corporis. Aspernatur maxime sunt non ipsum atque sit exercitationem voluptatem qui.\",\"ipv4\" : \"212.170.87.209\",\"job\" : \"Forward Identity Manager\",\"name\" : \"Erick Romaguera IV\",\"oidxid\" : \"2\",\"phone\" : \"223-271-4064\",\"prevhash\" : \"\",\"priorhash\" : \"D50F0C42E0FED35D7CCC6CE416F18C09F1414FF676AE72AD3A665A0F3D6F8365\",\"sentiment\" : \"\",\"sentiment2\" : \"\",\"uuid\" : \"4e178363-db16-473d-bbfe-0afb7891c6bf\"},\\n{\\n\"address\" : \"2185 Merlin Estates\",\"cc_exp\" : \"02/29\",\"context\" : \"\",\"context2\" : \"\",\"credit\" : \"2531\",\"dateadded\" : \"2023-04-28T11:04:22.432Z\",\"dob\" : \"Tue Mar 07 2023 08:12:48 GMT+0000 (Greenwich Mean Time)\",\"emoji\" : \"http://placeimg.com/640/480/people\",\"hash\" : \"279484F53BC19E54E4B48D7BF4B4A0EAC5ACAF890F1E2442E21EF1A45146A04E\",\"info\" : \"Amet officia quia maiores. Sint aspernatur id. Aut eum iusto est eveniet. Dolores molestiae ab sit culpa. Non sed et consequatur. Perferendis odit autem.\\n \\rQuae rerum fugiat aut delectus sunt. Dolorem quia commodi. Voluptate unde sit illo blanditiis quasi. Labore reprehenderit corrupti voluptate eos iure aut molestias unde sapiente.\\n \\rAd architecto sit sit officia et. Quis consectetur eum voluptatem. Quidem sed quod sequi impedit quisquam molestias dolor. Id doloremque culpa dolor dolor assumenda.\",\"ipv4\" : \"241.100.75.107\",\"job\" : \"Central Directives Orchestrator\",\"name\" : \"Alvin Stehr\",\"oidxid\" : \"3\",\"phone\" : \"278-876-5530\",\"prevhash\" : \"\",\"priorhash\" : \"E2A0BD450E80B80A40B76F990EA8EA3FAEF00B9286F5B5F2CB56ACB24BADCD7C\",\"sentiment\" : \"\",\"sentiment2\" : \"\",\"uuid\" : \"ea165473-5da6-472d-91ca-862a847d8a56\"},\\n{\\n\"address\" : \"37709 Priscilla Trail\",\"cc_exp\" : \"02/29\",\"context\" : \"\",\"context2\" : \"\",\"credit\" : \"7501\",\"dateadded\" : \"2023-04-28T11:08:35.699Z\",\"dob\" : \"Sun May 08 2022 12:02:03 GMT+0100 (British Summer Time)\",\"emoji\" : \"https://cdn.fakercloud.com/avatars/josecarlospsh_128.jpg\",\"hash\" : \"B654A43EA0A16C175DCF7D2D5186A683E6561F61AC21F948DB6F331A7D2B8242\",\"info\" : \"Iste doloremque dolore aspernatur ex dolor aut. Praesentium saepe quia porro quaerat. Qui voluptates dignissimos adipisci soluta maiores accusamus asperiores voluptatum. Tempora qui illo eveniet voluptates quia praesentium voluptatem ipsum. Ex eos qui occaecati ea sit corporis repudiandae. Voluptatibus hic praesentium perferendis enim ut totam.\\n \\rOfficia quidem ad quidem quia veniam odio quidem perferendis hic. Possimus voluptas eaque. Voluptates pariatur sed excepturi harum qui. Neque delectus aut culpa accusamus temporibus error occaecati voluptate.\\n \\rArchitecto sit qui quia quis impedit ex incidunt ut error. Aspernatur aliquam nihil molestias aut eaque adipisci at ut. Beatae porro nostrum quas labore eos ut exercitationem ea. Ducimus et et sit ut consequatur voluptas dolorum esse commodi.\",\"ipv4\" : \"35.158.198.198\",\"job\" : \"Dynamic Research Technician\",\"name\" : \"Gene Kiehn\",\"oidxid\" : \"4\",\"phone\" : \"836-853-7534\",\"prevhash\" : \"\",\"priorhash\" : \"279484F53BC19E54E4B48D7BF4B4A0EAC5ACAF890F1E2442E21EF1A45146A04E\",\"sentiment\" : \"\",\"sentiment2\" : \"\",\"uuid\" : \"7a96b733-3291-4513-97c7-49461acea4d4\"},\\n{\\n\"address\" : \"Studio 09\\\\nKayleigh islands\\\\nBurnsberg\\\\nTD0X 3NY\",\"cc_exp\" : \"04/33\",\"context\" : \"\",\"context2\" : \"\",\"credit\" : \"3533269328003042\",\"dateadded\" : \"2023-04-28 11:10:44\",\"dob\" : \"1938-01-11\",\"emoji\" : \"\\\\ud83e\\\\udd39\\\\ud83c\\\\udffc\",\"hash\" : \"21FDFF4E1197405609D09A47998DDD79C6636535975307D9CA0512453E7513C0\",\"info\" : \"Rem laborum nesciunt totam consectetur necessitatibus tempore. Enim modi itaque amet vel delectus architecto. Autem harum fugiat. Quas asperiores rerum sit. Voluptate quae maxime modi. Eius delectus sapiente sit asperiores id aut. Eligendi eum autem iusto placeat labore minima. Veritatis iusto quidem rerum exercitationem tempore. Fugit beatae rem libero facilis nesciunt neque nostrum. Soluta debitis cumque explicabo assumenda fugiat.\",\"ipv4\" : \"57.80.254.162\",\"job\" : \"\\\\u0130lahiyat\\\\u00e7\\\\u0131\",\"name\" : \"\\\\u7530\\\\u4e2d \\\\u88d5\\\\u7f8e\\\\u5b50\",\"oidxid\" : \"5\",\"phone\" : \"(01632) 960 924\",\"prevhash\" : \"\",\"priorhash\" : \"B654A43EA0A16C175DCF7D2D5186A683E6561F61AC21F948DB6F331A7D2B8242\",\"sentiment\" : \"\",\"sentiment2\" : \"\",\"uuid\" : \"023dd3a4-b462-48eb-b665-1a0d1789f23c\"},\\n{\\n\"address\" : \"69 Stephen locks\\\\nEast Zoeside\\\\nWR40 8AB\",\"cc_exp\" : \"02/32\",\"context\" : \"\",\"context2\" : \"\",\"credit\" : \"30162292906346\",\"dateadded\" : \"2023-04-28 11:40:10\",\"dob\" : \"1956-10-17\",\"emoji\" : \"\\\\ud83d\\\\udee0\\\\ufe0f\",\"hash\" : \"3D32AFE9CEAF4D8DEF3E054D7EB371A42AE1C7242AE7F8278E1C68DF6B4C2126\",\"info\" : \"Aliquid commodi sed veniam soluta occaecati voluptas. Veniam reiciendis numquam aliquid quo. Tempore ipsum optio pariatur odit. Quam quis necessitatibus atque dolorum totam. Iure a asperiores nisi rerum neque natus. Quia ipsa saepe inventore. Praesentium quisquam vel corrupti provident corrupti. Quos veritatis necessitatibus commodi. Et non soluta facilis. Expedita ducimus eius vero a debitis dolorem cum.\",\"ipv4\" : \"89.169.48.70\",\"job\" : \"Games developer\",\"name\" : \"\\\\u9234\\\\u6728 \\\\u76f4\\\\u5b50\",\"oidxid\" : \"6\",\"phone\" : \"0331-680 5500\",\"prevhash\" : \"\",\"priorhash\" : \"21FDFF4E1197405609D09A47998DDD79C6636535975307D9CA0512453E7513C0\",\"sentiment\" : \"\",\"sentiment2\" : \"\",\"uuid\" : \"2b6e45fb-dae6-40eb-9eda-4927dccbd2cf\"},\\n{\\n\"address\" : \"58897 F\\\\u0131rat Corners\\\\nEvdeburgh, NM 06214\",\"cc_exp\" : \"10/26\",\"context\" : \"\",\"context2\" : \"\",\"credit\" : \"344621854493887\",\"dateadded\" : \"2023-04-28 11:44:56\",\"dob\" : \"1928-01-12\",\"emoji\" : \"\\\\ud83d\\\\udd87\\\\ufe0f\",\"hash\" : \"DC9636B42FC73D27CE0C6F40CFD6B931984CBA6EAEC2E323BBF69322894220A2\",\"info\" : \"\\\\u72d0\\\\u5b66\\\\u751f\\\\u30af\\\\u30eb\\\\u30fc\\\\u54c1\\\\u8cea\\\\u30b3\\\\u30df\\\\u30e5\\\\u30cb\\\\u30b1\\\\u30fc\\\\u30b7\\\\u30e7\\\\u30f3\\\\u6301\\\\u3064\\\\u30b3\\\\u30fc\\\\u30ca\\\\u30fc\\\\u30ea\\\\u30d5\\\\u30c8\\\\u3002\\\\u63a2\\\\u67fb\\\\u5408\\\\u8a08\\\\u30b3\\\\u30df\\\\u30e5\\\\u30cb\\\\u30c6\\\\u30a3\\\\u53c2\\\\u52a0\\\\u3059\\\\u308b\\\\u30ad\\\\u30e3\\\\u30d3\\\\u30cd\\\\u30c3\\\\u30c8\\\\u526f\\\\u54c1\\\\u8cea\\\\u30c8\\\\u30ea\\\\u30d3\\\\u30e5\\\\u30fc\\\\u30c8\\\\u3002\\\\u8a3c\\\\u8a00\\\\u3059\\\\u308b\\\\u30dc\\\\u30c8\\\\u30eb\\\\u30b5\\\\u30e9\\\\u30c0\\\\u5968\\\\u52b1\\\\u3057\\\\u307e\\\\u3059\\\\u8a66\\\\u3057\\\\u3066\\\\u307f\\\\u308b\\\\u30b3\\\\u30d4\\\\u30fc\\\\u30af\\\\u30ed\\\\u30b9\\\\u4fdd\\\\u8a3c\\\\u91d1\\\\u3002\\\\u5927\\\\u7d71\\\\u9818\\\\u90e8\\\\u968a\\\\u30d2\\\\u30fc\\\\u30eb\\\\u3002\\\\u72ed\\\\u3044\\\\u30d6\\\\u30e9\\\\u30b1\\\\u30c3\\\\u30c8\\\\u7b26\\\\u53f7\\\\u8ef8\\\\u697d\\\\u3057\\\\u3093\\\\u3067\\\\u52a9\\\\u3051\\\\u3066\\\\u8a3c\\\\u8a00\\\\u3059\\\\u308b\\\\u3002\\\\u697d\\\\u3057\\\\u3093\\\\u3067\\\\u5fc5\\\\u8981\\\\u611f\\\\u8b1d\\\\u3059\\\\u308b\\\\u30d0\\\\u30ca\\\\u30fc\\\\u3002\\\\u30ad\\\\u30e3\\\\u30d3\\\\u30f3\\\\u7ba1\\\\u7406\\\\u3059\\\\u308b\\\\u30ea\\\\u30d5\\\\u30c8\\\\u30d0\\\\u30b9\\\\u30b1\\\\u30c3\\\\u30c8\\\\u3002\\\\u72af\\\\u7f6a\\\\u8005\\\\u9271\\\\u5c71\\\\u30b9\\\\u30de\\\\u30c3\\\\u30b7\\\\u30e5\\\\u4e2d\\\\u592e\\\\u30c0\\\\u30a4\\\\u30e4\\\\u30e2\\\\u30f3\\\\u30c9\\\\u3002\\\\u30ea\\\\u30cf\\\\u30d3\\\\u30ea\\\\u672c\\\\u8cea\\\\u7684\\\\u306a\\\\u30c8\\\\u30ec\\\\u30fc\\\\u30ca\\\\u30fc\\\\u518d\\\\u73fe\\\\u3059\\\\u308b\\\\u3002\\\\u5408\\\\u8a08\\\\u4fdd\\\\u6301\\\\u3059\\\\u308b\\\\u30d6\\\\u30ec\\\\u30fc\\\\u30ad\\\\u547c\\\\u3076\\\\u30d5\\\\u30ec\\\\u30fc\\\\u30e0\\\\u88c5\\\\u7f6e\\\\u3002\",\"ipv4\" : \"109.199.130.223\",\"job\" : \"Nutritional therapist\",\"name\" : \"Sezginba\\\\u015f Han\\\\u00e7er\",\"oidxid\" : \"7\",\"phone\" : \"+90 (281) 9546848\",\"prevhash\" : \"\",\"priorhash\" : \"3D32AFE9CEAF4D8DEF3E054D7EB371A42AE1C7242AE7F8278E1C68DF6B4C2126\",\"sentiment\" : \"\",\"sentiment2\" : \"\",\"uuid\" : \"38512540-c7a0-4d69-ad1b-f952f27524b4\"},\\n{\\n\"address\" : \"7195 Kuhn Tunnel\",\"cc_exp\" : \"02/29\",\"context\" : \"\",\"context2\" : \"\",\"credit\" : \"8460\",\"dateadded\" : \"2023-04-28T12:48:42.926Z\",\"dob\" : \"Sat Mar 04 2023 17:45:45 GMT+0000 (Greenwich Mean Time)\",\"emoji\" : \"https://cdn.fakercloud.com/avatars/danthms_128.jpg\",\"hash\" : \"8D4410DAB96D067CC1905324088672805C4BCA9C77CFC762494037F5C836C701\",\"info\" : \"Quibusdam quo vel aliquid eaque enim veritatis voluptatum. Excepturi ratione maxime. Voluptatum labore cupiditate.\\n \\rQuia at illum aut aut et itaque. Quia ipsam eligendi dignissimos quis rem reiciendis eligendi quia vero. Illum deleniti et et aliquid ullam neque sapiente.\\n \\rVoluptatibus autem tempora quos adipisci nemo error reiciendis omnis. Dolorem incidunt voluptatibus iure distinctio accusamus nobis eveniet aliquid aut. Qui omnis doloribus quidem nemo unde. Accusamus consequuntur magnam quam quis mollitia.\",\"ipv4\" : \"86.121.155.230\",\"job\" : \"Investor Usability Facilitator\",\"name\" : \"Mindy VonRueden\",\"oidxid\" : \"8\",\"phone\" : \"408-318-3686\",\"prevhash\" : \"\",\"priorhash\" : \"DC9636B42FC73D27CE0C6F40CFD6B931984CBA6EAEC2E323BBF69322894220A2\",\"sentiment\" : \"\",\"sentiment2\" : \"\",\"uuid\" : \"c03be738-eb27-48ec-8c04-463aab5ede24\"},\\n{\\n\"address\" : \"4009 Johnston Alley\",\"cc_exp\" : \"02/29\",\"context\" : \"\",\"context2\" : \"\",\"credit\" : \"9425\",\"dateadded\" : \"2023-04-28T12:49:00.762Z\",\"dob\" : \"Tue Jun 07 2022 20:02:09 GMT+0100 (British Summer Time)\",\"emoji\" : \"https://cdn.fakercloud.com/avatars/nutzumi_128.jpg\",\"hash\" : \"DB536C0A61E26C1F7BAE507C832437A7786EB45E86A2352AA396F5D4613709D2\",\"info\" : \"Enim quibusdam ullam et earum enim veniam temporibus doloremque esse. Accusantium omnis ab dolore. Tenetur labore quae suscipit voluptas eaque maiores dolores cupiditate hic. Nemo quia expedita qui nihil quod sapiente aut laboriosam rem.\\n \\rReiciendis quis illum id odit dicta. Explicabo ducimus perferendis consequatur ad odio optio odio sint delectus. Reprehenderit magnam soluta et voluptatem officia quam.\\n \\rSed sed eos ea qui modi commodi in. Sit laboriosam tempore consequatur aspernatur cum quam. Voluptatibus rerum et qui aut. Nesciunt molestiae dolorum.\",\"ipv4\" : \"245.10.235.199\",\"job\" : \"Customer Directives Director\",\"name\" : \"Dean Berge\",\"oidxid\" : \"9\",\"phone\" : \"274-710-8843\",\"prevhash\" : \"\",\"priorhash\" : \"8D4410DAB96D067CC1905324088672805C4BCA9C77CFC762494037F5C836C701\",\"sentiment\" : \"\",\"sentiment2\" : \"\",\"uuid\" : \"acfeca18-87e8-4479-b925-7bfb64930eca\"},\\n{\\n\"address\" : \"\\\\u5cf6\\\\u6839\\\\u770c\\\\u6e2f\\\\u533a\\\\u6e21\\\\u8fba29\\\\u4e01\\\\u76ee24\\\\u756a16\\\\u53f7 \\\\u30d1\\\\u30ec\\\\u30b9\\\\u864e\\\\u30ce\\\\u9580\\\\u864e\\\\u30ce\\\\u9580\\\\u30d2\\\\u30eb\\\\u30ba\\\\u68ee\\\\u30bf\\\\u30ef\\\\u30fc383\",\"cc_exp\" : \"06/23\",\"context\" : \"\",\"context2\" : \"\",\"credit\" : \"2536971891708803\",\"dateadded\" : \"2023-04-28 12:52:38\",\"dob\" : \"1950-06-30\",\"emoji\" : \"\\\\ud83d\\\\ude4e\\\\ud83c\\\\udffb\\\\u200d\\\\u2640\\\\ufe0f\",\"hash\" : \"9DBC1DE363FF02CEC3967683E26422A669282E4066B42EA8C5FA55F74DF427BD\",\"info\" : \"Omnis facere distinctio provident culpa. Ab aut illum necessitatibus libero ea. Eos illum itaque consectetur maxime. Odio autem inventore assumenda sit velit natus. Inventore iure eum laudantium accusamus magnam earum rerum. Error rerum quod perferendis. Necessitatibus nam ipsum quibusdam amet ullam delectus rem. Suscipit ea error nobis accusantium laudantium eaque. Sed beatae saepe animi nihil. Accusamus sed autem molestias in.\",\"ipv4\" : \"141.159.241.56\",\"job\" : \"Fizyoterapist\",\"name\" : \"\\\\u6e21\\\\u8fba \\\\u5e79\",\"oidxid\" : \"10\",\"phone\" : \"+44(0)151 4960295\",\"prevhash\" : \"\",\"priorhash\" : \"DB536C0A61E26C1F7BAE507C832437A7786EB45E86A2352AA396F5D4613709D2\",\"sentiment\" : \"\",\"sentiment2\" : \"\",\"uuid\" : \"faf32451-7107-42b5-a60b-29e23fdd14ab\"}\\n]\\n}'"
      ]
     },
     "execution_count": 6,
     "metadata": {},
     "output_type": "execute_result"
    }
   ],
   "source": [
    "client = OmniIndexClient(SERVER,API_KEY,UNIT_NAME, BLOCK_TYPE, USER, APIserver)\n",
    "query = client.run_analytic_query(\"true\", \"select * from limit 10 \")\n",
    "query"
   ]
  },
  {
   "cell_type": "code",
   "execution_count": 5,
   "metadata": {},
   "outputs": [
    {
     "name": "stdout",
     "output_type": "stream",
     "text": [
      "{ \"results\" : [\n",
      "{\n",
      "\"count\" : \"14\"}\n",
      "]\n",
      "}\n"
     ]
    }
   ],
   "source": [
    "client = OmniIndexClient(SERVER,API_KEY,UNIT_NAME, BLOCK_TYPE, USER, APIserver)\n",
    "query = client.run_analytic_query(\"true\", \"select count (*) from \")\n",
    "print(query)"
   ]
  },
  {
   "attachments": {},
   "cell_type": "markdown",
   "metadata": {},
   "source": [
    "generating fake-random data for the examples\n"
   ]
  },
  {
   "cell_type": "code",
   "execution_count": 7,
   "metadata": {},
   "outputs": [],
   "source": [
    "from faker import Faker\n",
    "from faker.providers import internet\n",
    "\"\"\" Creates a fake info for testing purposes\n",
    "    :param lcid: language codes for localisation\n",
    "    :type lcid: list\n",
    "    :return: \n",
    "    \"\"\"\n",
    "\n",
    "def create_info(lcid: list):\n",
    "    # Create a Faker object\n",
    "    fake = Faker(lcid)\n",
    "    \n",
    "    # Generate random data\n",
    "    NAME = fake.name()\n",
    "    ADDRESS = fake.address()\n",
    "    INFO = fake.paragraph(nb_sentences=10, variable_nb_sentences=False)\n",
    "    IPV4 = fake.ipv4()\n",
    "    CREDIT = fake.credit_card_number()\n",
    "    CC_EXP = fake.credit_card_expire()\n",
    "    DOB = str(fake.date_of_birth())\n",
    "    UUID = fake.uuid4()\n",
    "    EMOJI = fake.emoji()\n",
    "    JOB = fake.job()\n",
    "    PHONE = fake.phone_number()\n",
    "    USER_AGENT = fake.user_agent()\n",
    "    \n",
    "    # Create a JSON object\n",
    "    data = {\n",
    "        \"nameEncrypt\": NAME,\n",
    "        \"addressEncrypt\": ADDRESS,\n",
    "        \"infoEncrypt\": INFO,\n",
    "        \"ipv4Encrypt\": IPV4,\n",
    "        \"creditEncrypt\": CREDIT,\n",
    "        \"cc_exp\": CC_EXP,\n",
    "        \"dobEncrypt\": DOB,\n",
    "        \"uuid\": UUID,\n",
    "        \"emoji\": EMOJI,\n",
    "        \"job\": JOB,\n",
    "        \"phone\": PHONE,\n",
    "        \"user_agent\": USER_AGENT\n",
    "    }\n",
    "    \n",
    "    return data\n",
    "\n",
    "\n",
    "    "
   ]
  },
  {
   "cell_type": "code",
   "execution_count": 8,
   "metadata": {},
   "outputs": [
    {
     "data": {
      "text/plain": [
       "{'nameEncrypt': 'Douglas Pearson',\n",
       " 'addressEncrypt': '2546 Yaman Glens Suite 103\\nTezolside, GA 53888',\n",
       " 'infoEncrypt': 'Aperiam alias blanditiis debitis magni eaque delectus. Reiciendis magni unde quidem deserunt. Repudiandae quod quisquam deserunt vero accusamus. Qui facilis mollitia numquam. Excepturi error architecto dolorum. Odit excepturi dolorum. Repellat repellendus ad nobis a dolore ratione. Autem voluptatum tempore quidem dolores dolor. Suscipit animi totam. Saepe dolores nobis labore culpa autem aperiam.',\n",
       " 'ipv4Encrypt': '49.133.240.54',\n",
       " 'creditEncrypt': '2241539371018310',\n",
       " 'cc_exp': '12/29',\n",
       " 'dobEncrypt': '1960-06-21',\n",
       " 'uuid': '7cab36d2-d95d-416c-b5d1-9480a8cc4ac2',\n",
       " 'emoji': '🦅',\n",
       " 'job': 'Engineer, energy',\n",
       " 'phone': '090-3466-5572',\n",
       " 'user_agent': 'Opera/8.53.(X11; Linux i686; yue-HK) Presto/2.9.162 Version/12.00'}"
      ]
     },
     "execution_count": 8,
     "metadata": {},
     "output_type": "execute_result"
    }
   ],
   "source": [
    "data = create_info(['tr_TR', 'en_GB', 'ja_JP'])\n",
    "data"
   ]
  },
  {
   "attachments": {},
   "cell_type": "markdown",
   "metadata": {},
   "source": [
    "## minedata\n",
    "\n",
    "Adds a new block to the blockchain.\n",
    "- first cell creates a new, random data payload\n",
    "- second cell adds the data to the blockchain"
   ]
  },
  {
   "cell_type": "code",
   "execution_count": 9,
   "metadata": {},
   "outputs": [
    {
     "name": "stdout",
     "output_type": "stream",
     "text": [
      "payload = {\"nameEncrypt\": \"\\u00c7ev. \\u00c7\\u0131dal Ziyaettin \\u00d6calan\", \"addressEncrypt\": \"777 Kocaba\\u015f Freeway Apt. 395\\nAtanurmouth, ME 41070\", \"infoEncrypt\": \"Neque provident quia ut eaque nemo. Doloremque repudiandae perferendis cumque consequatur iste. Distinctio voluptas unde fuga minus suscipit illum voluptate. Nisi optio sint autem provident ipsum officia. Quasi quo quam aliquid. Atque est blanditiis iusto quidem nisi ad. Nobis aut non delectus aspernatur totam ad. Minus quae eaque eligendi odio doloribus. Cumque omnis esse repudiandae nam vero. Autem cumque a id iure.\", \"ipv4Encrypt\": \"37.102.101.215\", \"creditEncrypt\": \"6531684897804148\", \"cc_exp\": \"04/24\", \"dobEncrypt\": \"1971-03-23\", \"uuid\": \"97923fdc-4969-4270-a85e-4bf87989e6bc\", \"emoji\": \"\\ud83e\\uddd1\\u200d\\ud83c\\udf73\", \"job\": \"Ambalajc\\u0131\", \"phone\": \"090-4868-7534\", \"user_agent\": \"Opera/9.63.(Windows 98; sat-IN) Presto/2.9.174 Version/10.00\", \"dateAdded\": \"2023-05-12 16:30:55\"}\n"
     ]
    }
   ],
   "source": [
    "# This cell creates a payload (JSON file of records to be added)\n",
    "\n",
    "# it is recommended practice to always add a timestamp to your data\n",
    "DATE_ADDED = time.strftime(\"%Y-%m-%d %H:%M:%S\", time.gmtime())\n",
    "import datetime\n",
    "\n",
    "# OmniIndex JSON parser accepts only string values\n",
    "STAMP = str(datetime.datetime.now().timestamp() * 1000) \n",
    "\n",
    "# setup a payload to add to the block\n",
    "query = create_info(['tr_TR', 'en_GB', 'ja_JP']) # added some localised data just for fun\n",
    "query[\"dateAdded\"] = DATE_ADDED\n",
    "payload = json.dumps(query)\n",
    "print(f\"payload = {payload}\")"
   ]
  },
  {
   "cell_type": "code",
   "execution_count": 10,
   "metadata": {},
   "outputs": [
    {
     "name": "stdout",
     "output_type": "stream",
     "text": [
      "This is the return value: \n"
     ]
    }
   ],
   "source": [
    "\n",
    "# create a client object\n",
    "client = OmniIndexClient(SERVER, API_KEY, UNIT_NAME, BLOCK_TYPE, USER, APIserver)\n",
    "result = client.post_minedata(MASTER_KEY, payload,)\n",
    "print(f\"This is the return value: {result}\")"
   ]
  },
  {
   "attachments": {},
   "cell_type": "markdown",
   "metadata": {},
   "source": [
    "# APPENDIX\n",
    "## useful tools etc"
   ]
  },
  {
   "attachments": {},
   "cell_type": "markdown",
   "metadata": {},
   "source": [
    "Recipes for generating usernames and passwords"
   ]
  },
  {
   "cell_type": "code",
   "execution_count": null,
   "metadata": {},
   "outputs": [],
   "source": [
    "# Generate a ten-character alphanumeric password with at least one lowercase character, at least one uppercase character, and at least three digits:\n",
    "from faker import Faker\n",
    "\n",
    "\n",
    "def ten_pass():\n",
    "    fake = Faker()\n",
    "    password = fake.password(length=10, special_chars=True, digits=True, upper_case=True, lower_case=True)\n",
    "    return password\n",
    "\n",
    "def user_name():\n",
    "    fake = Faker()\n",
    "    user_name = fake.user_name()\n",
    "    return user_name\n",
    "\n",
    "def pass_key():\n",
    "    fake = Faker()\n",
    "    api_key = fake.password(length=32, special_chars=True, digits=True, upper_case=True, lower_case=True)\n",
    "    return api_key\n",
    "\n",
    "new_user = user_name()\n",
    "new_pass = ten_pass()\n",
    "new_key = pass_key()\n",
    "\n",
    "print(f\"new username: {new_user}\")\n",
    "print(f\"new password: {new_pass}\")\n",
    "print(f\"new api key: {new_key}\")\n"
   ]
  }
 ],
 "metadata": {
  "kernelspec": {
   "display_name": ".venv",
   "language": "python",
   "name": "python3"
  },
  "language_info": {
   "codemirror_mode": {
    "name": "ipython",
    "version": 3
   },
   "file_extension": ".py",
   "mimetype": "text/x-python",
   "name": "python",
   "nbconvert_exporter": "python",
   "pygments_lexer": "ipython3",
   "version": "3.11.3"
  },
  "orig_nbformat": 4
 },
 "nbformat": 4,
 "nbformat_minor": 2
}
