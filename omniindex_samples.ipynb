{
 "cells": [
  {
   "attachments": {},
   "cell_type": "markdown",
   "metadata": {},
   "source": [
    "# OmniIndex\n",
    "## How to use the omniindex connector for python\n",
    "examples of each api call are provided in the following notebook cells\n",
    "\n",
    "written and maintained by: [**@james stanbridge**](mailto:james@omniindex.io)\n",
    "\n",
    "Contents:\n",
    "=================\n",
    "- [OmniIndex](#OmniIndex)\n",
    "- [V1 API](#V1-API)\n",
    "    * [get_block_schematic](#get_block_schematic)\n",
    "    * [run_analytic_query](#run_analytic_query)\n",
    "    * [generating fake random data](#generating-fake-random-data)\n",
    "    * [minedata](#minedata)\n",
    "    * [Appendix](#Appendix)\n",
    "- [V2 API](#V2-API)\n"
   ]
  },
  {
   "cell_type": "markdown",
   "metadata": {},
   "source": [
    "## V1 API"
   ]
  },
  {
   "cell_type": "code",
   "execution_count": null,
   "metadata": {},
   "outputs": [],
   "source": [
    "# mandatory cell\n",
    "# expects omniindex==0.1.12 minimum\n",
    "import json\n",
    "from omniindex.api import OmniIndexClient # this will change in future versions to omniindex.connector\n",
    "import os\n",
    "import pandas as pd\n",
    "import time\n"
   ]
  },
  {
   "attachments": {},
   "cell_type": "markdown",
   "metadata": {},
   "source": [
    "if you want to use another method to set your environment variables, you can do so. This is the recommomended method for use with jupyter notebooks"
   ]
  },
  {
   "cell_type": "code",
   "execution_count": null,
   "metadata": {},
   "outputs": [],
   "source": [
    "SERVER = os.environ['OI_API_TEST_SERVER'] # maps to server\n",
    "API_KEY = os.environ['OI_API_TEST_API_KEY'] # maps to api_key\n",
    "UNIT_NAME = os.environ['OI_API_TEST_UNIT_NAME']# maps to unit_name\n",
    "USER = os.environ['OI_API_TEST_USER'] # maps to user\n",
    "#\n",
    "BLOCK_TYPE = \"Owner\"\n",
    "MASTER_KEY = os.environ['OI_API_MASTER_KEY_DEMO'] # master key for demonstration\n",
    "\n",
    "APIserver = \"https://api.omniindex.xyz/api_v1\""
   ]
  },
  {
   "attachments": {},
   "cell_type": "markdown",
   "metadata": {},
   "source": [
    "Setting up the client:\n",
    "as with all the functions, you need to start with a client object = OmniIndexClient()\n",
    "\n",
    "Parameters\n",
    "- server (str) – The server to connect to. This is the node server for your blockchain\n",
    "- api_key (str) – The api key also know as password for your blockchain\n",
    "- unit_name (str) – The unit name for your blockchain\n",
    "- user (str) – The user name for your blockchain (paired with the api key)\n",
    "- block_type (str) – The block type you want to get the schematic for (typically 'Owner' or 'Global')"
   ]
  },
  {
   "attachments": {},
   "cell_type": "markdown",
   "metadata": {},
   "source": [
    "## get_block_schematic\n",
    "it's useful to know the structure of the block you're working with. This function will return the block schematic for a given block id\n",
    "\n",
    "```python\n",
    "get_block_schematic()\n",
    "```"
   ]
  },
  {
   "cell_type": "code",
   "execution_count": null,
   "metadata": {},
   "outputs": [],
   "source": [
    "client = OmniIndexClient(SERVER,API_KEY,UNIT_NAME, BLOCK_TYPE, USER, APIserver)\n",
    "getblock = client.get_block_schematic()\n",
    "getblock\n"
   ]
  },
  {
   "attachments": {},
   "cell_type": "markdown",
   "metadata": {},
   "source": [
    "## run_analytic_query\n",
    "```python\n",
    "run_analytic_query(show_protected, query)\n",
    "```\n",
    "\n",
    "1. Cell shows what a SQL select * query looks like - note that the show_protected parameter is set to true, which means you will get the protected fields unredacted\n",
    "2. Cell shows how to SQL select a COUNT of the number of records in the block"
   ]
  },
  {
   "cell_type": "code",
   "execution_count": null,
   "metadata": {},
   "outputs": [],
   "source": [
    "client = OmniIndexClient(SERVER,API_KEY,UNIT_NAME, BLOCK_TYPE, USER, APIserver)\n",
    "query = client.run_analytic_query(\"true\", \"select * from limit 10 \")\n",
    "query"
   ]
  },
  {
   "cell_type": "code",
   "execution_count": null,
   "metadata": {},
   "outputs": [],
   "source": [
    "client = OmniIndexClient(SERVER,API_KEY,UNIT_NAME, BLOCK_TYPE, USER, APIserver)\n",
    "query = client.run_analytic_query(\"true\", \"select count (*) from \")\n",
    "print(query)"
   ]
  },
  {
   "attachments": {},
   "cell_type": "markdown",
   "metadata": {},
   "source": [
    "generating fake-random data for the examples\n"
   ]
  },
  {
   "cell_type": "code",
   "execution_count": null,
   "metadata": {},
   "outputs": [],
   "source": [
    "from faker import Faker\n",
    "from faker.providers import internet\n",
    "\"\"\" Creates a fake info for testing purposes\n",
    "    :param lcid: language codes for localisation\n",
    "    :type lcid: list\n",
    "    :return: \n",
    "    \"\"\"\n",
    "\n",
    "def create_info(lcid: list):\n",
    "    # Create a Faker object\n",
    "    fake = Faker(lcid)\n",
    "    \n",
    "    # Generate random data\n",
    "    NAME = fake.name()\n",
    "    ADDRESS = fake.address()\n",
    "    INFO = fake.paragraph(nb_sentences=10, variable_nb_sentences=False)\n",
    "    IPV4 = fake.ipv4()\n",
    "    CREDIT = fake.credit_card_number()\n",
    "    CC_EXP = fake.credit_card_expire()\n",
    "    DOB = str(fake.date_of_birth())\n",
    "    UUID = fake.uuid4()\n",
    "    EMOJI = fake.emoji()\n",
    "    JOB = fake.job()\n",
    "    PHONE = fake.phone_number()\n",
    "    USER_AGENT = fake.user_agent()\n",
    "    \n",
    "    # Create a JSON object\n",
    "    data = {\n",
    "        \"nameEncrypt\": NAME,\n",
    "        \"addressEncrypt\": ADDRESS,\n",
    "        \"infoEncrypt\": INFO,\n",
    "        \"ipv4Encrypt\": IPV4,\n",
    "        \"creditEncrypt\": CREDIT,\n",
    "        \"cc_exp\": CC_EXP,\n",
    "        \"dobEncrypt\": DOB,\n",
    "        \"uuid\": UUID,\n",
    "        \"emoji\": EMOJI,\n",
    "        \"job\": JOB,\n",
    "        \"phone\": PHONE,\n",
    "        \"user_agent\": USER_AGENT\n",
    "    }\n",
    "    \n",
    "    return data\n",
    "\n",
    "\n",
    "    "
   ]
  },
  {
   "cell_type": "code",
   "execution_count": null,
   "metadata": {},
   "outputs": [],
   "source": [
    "data = create_info(['tr_TR', 'en_GB', 'ja_JP'])\n",
    "data"
   ]
  },
  {
   "attachments": {},
   "cell_type": "markdown",
   "metadata": {},
   "source": [
    "## minedata\n",
    "\n",
    "Adds a new block to the blockchain.\n",
    "- first cell creates a new, random data payload\n",
    "- second cell adds the data to the blockchain"
   ]
  },
  {
   "cell_type": "code",
   "execution_count": null,
   "metadata": {},
   "outputs": [],
   "source": [
    "# This cell creates a payload (JSON file of records to be added)\n",
    "\n",
    "# it is recommended practice to always add a timestamp to your data\n",
    "DATE_ADDED = time.strftime(\"%Y-%m-%d %H:%M:%S\", time.gmtime())\n",
    "import datetime\n",
    "\n",
    "# OmniIndex JSON parser accepts only string values\n",
    "STAMP = str(datetime.datetime.now().timestamp() * 1000) \n",
    "\n",
    "# setup a payload to add to the block\n",
    "query = create_info(['tr_TR', 'en_GB', 'ja_JP']) # added some localised data just for fun\n",
    "query[\"dateAdded\"] = DATE_ADDED\n",
    "payload = json.dumps(query)\n",
    "print(f\"payload = {payload}\")"
   ]
  },
  {
   "cell_type": "code",
   "execution_count": null,
   "metadata": {},
   "outputs": [],
   "source": [
    "\n",
    "# create a client object\n",
    "client = OmniIndexClient(SERVER, API_KEY, UNIT_NAME, BLOCK_TYPE, USER, APIserver)\n",
    "result = client.post_minedata(MASTER_KEY, payload,)\n",
    "print(f\"This is the return value: {result}\")"
   ]
  },
  {
   "attachments": {},
   "cell_type": "markdown",
   "metadata": {},
   "source": [
    "# APPENDIX\n",
    "## useful tools etc"
   ]
  },
  {
   "attachments": {},
   "cell_type": "markdown",
   "metadata": {},
   "source": [
    "Recipes for generating usernames and passwords"
   ]
  },
  {
   "cell_type": "code",
   "execution_count": null,
   "metadata": {},
   "outputs": [],
   "source": [
    "# Generate a ten-character alphanumeric password with at least one lowercase character, at least one uppercase character, and at least three digits:\n",
    "from faker import Faker\n",
    "\n",
    "\n",
    "def ten_pass():\n",
    "    fake = Faker()\n",
    "    password = fake.password(length=10, special_chars=True, digits=True, upper_case=True, lower_case=True)\n",
    "    return password\n",
    "\n",
    "def user_name():\n",
    "    fake = Faker()\n",
    "    user_name = fake.user_name()\n",
    "    return user_name\n",
    "\n",
    "def pass_key():\n",
    "    fake = Faker()\n",
    "    api_key = fake.password(length=32, special_chars=True, digits=True, upper_case=True, lower_case=True)\n",
    "    return api_key\n",
    "\n",
    "new_user = user_name()\n",
    "new_pass = ten_pass()\n",
    "new_key = pass_key()\n",
    "\n",
    "print(f\"new username: {new_user}\")\n",
    "print(f\"new password: {new_pass}\")\n",
    "print(f\"new api key: {new_key}\")\n"
   ]
  },
  {
   "cell_type": "markdown",
   "metadata": {},
   "source": [
    "# V2 API"
   ]
  },
  {
   "cell_type": "markdown",
   "metadata": {},
   "source": [
    "Basic and pgbc credentials are required to use the V2 API. These are available from the OmniIndex team.\n",
    "\n"
   ]
  },
  {
   "cell_type": "code",
   "execution_count": null,
   "metadata": {},
   "outputs": [],
   "source": [
    "from omniindex.api import OmniIndex\n",
    "from omniindex.api_credentials import APICredentials # this is the v2 connector\n",
    "from omniindex.credentials import BasicCredentials\n",
    "from omniindex.pgbc_credentials import PGBCCredentials\n",
    "import psycopg2\n",
    "\n",
    "\n",
    "credentials = BasicCredentials(username='james', password='james')\n",
    "print(credentials.are_valid())  # Output: True\n",
    "\n",
    "\n",
    "credentials = PGBCCredentials(data_source='james@omniindex.io', username='james@omniindex.io', password='james@omniindex.io', server='logs.pgbc.info', port=5434)\n",
    "print(credentials.are_valid())  # Output: True\n",
    "print(credentials)  # Output: PGBCCredentials(dataSource=my_db, username=admin, password=password, server=localhost, port=5432)\n",
    "\n",
    "omniIndex = OmniIndex.with_pgbc_credentials(credentials)\n",
    "print(omniIndex._credentials.username)  # Output: test-node-server.io"
   ]
  },
  {
   "cell_type": "markdown",
   "metadata": {},
   "source": [
    "## get_api_key"
   ]
  },
  {
   "cell_type": "code",
   "execution_count": null,
   "metadata": {},
   "outputs": [],
   "source": [
    "import requests\n",
    "\n",
    "def get_api_key():\n",
    "    url = \"http://api.pgbc.info/cgi-bin/pgbc_api/get_api_key?\"\n",
    "    params = {\n",
    "        \"instance\": omniIndex._credentials.dataSource,\n",
    "        \"password\": omniIndex._credentials.password,\n",
    "        \"server\": omniIndex._credentials.server,\n",
    "        \"port\": omniIndex._credentials.port\n",
    "    }\n",
    "    \n",
    "    headers = {\n",
    "        \"Content-Type\": \"application/json\",\n",
    "        \"Referer\": \"OmniIndex Python Connector\",\n",
    "        \"User-Agent\": \"Mozilla/5.0 (Windows NT 10.0; Win64; x64) AppleWebKit/537.36 (KHTML, like Gecko) Chrome/120.0.0.0 Safari/537.36\",\n",
    "    }\n",
    "\n",
    "    try:\n",
    "        response = requests.post(url, params=params, headers=headers)\n",
    "        response.raise_for_status()  # Raise an exception for non-200 status codes\n",
    "\n",
    "        data = response.json()  # Parse JSON response\n",
    "        api_key = data.get(\"api_key\")\n",
    "\n",
    "        # Print the API key (replace with your desired usage)\n",
    "        print(\"API Key:\", api_key)\n",
    "        return api_key\n",
    "\n",
    "    except requests.exceptions.RequestException as err:\n",
    "        print(\"Error:\", err)\n",
    "\n",
    "# Replace these placeholders with your actual values\n",
    "\n",
    "api_key = get_api_key()\n",
    "\n"
   ]
  },
  {
   "cell_type": "markdown",
   "metadata": {},
   "source": [
    "## get_user_count"
   ]
  },
  {
   "cell_type": "code",
   "execution_count": null,
   "metadata": {},
   "outputs": [],
   "source": [
    "import base64\n",
    "\n",
    "\n",
    "def get_user_count(input_key):\n",
    "    if input_key is None:\n",
    "        raise ValueError(\"API key must be specified\")   \n",
    "    \n",
    "    url = \"http://api.pgbc.info/cgi-bin/pgbc_api/get_user_count?\"\n",
    "    params = {\n",
    "        \"username\": \"james\",\n",
    "        \"password\": \"james\",\n",
    "    }\n",
    "   \n",
    "    headers = {\n",
    "        \"AUTHORIZATION\": f\"Basic {input_key}\",\n",
    "        \"Referer\": \"OmniIndex Python Connector\",\n",
    "        \"User-Agent\": \"Mozilla/5.0 (Windows NT 10.0; Win64; x64) AppleWebKit/537.36 (KHTML, like Gecko) Chrome/120.0.0.0 Safari/537.36\",\n",
    "    }\n",
    "    \n",
    "    try:\n",
    "        print(headers, params)\n",
    "        response = requests.post(url, params=params, headers=headers)\n",
    "        response.raise_for_status()\n",
    "\n",
    "        data = response.text  # Assuming the response is plain text\n",
    "\n",
    "        # Print the user count (replace with your desired usage)\n",
    "        print(\"User Count:\", data)\n",
    "        \n",
    "\n",
    "    except requests.exceptions.RequestException as err:\n",
    "        print(\"Error:\", err)\n",
    "\n",
    "# Replace these placeholders with your actual values\n",
    "input_key = \"UE9TVEdSRVNCQ2luc3RhbmNlPWpP62bhbWVzQG9tbmlpbmRleC5pbyZw12G2cYXNzd29yZD1qY127B2W1lc0BvbW5paW5kZXguP722aW8mc2VydmVyPWxvZ3MucGdiYy5pbmZvJnBvcnQ9NTQzNFBHQkM=\"\n",
    "get_user_count(input_key) # Pass the previously obtained API key"
   ]
  },
  {
   "cell_type": "markdown",
   "metadata": {},
   "source": [
    "## add_block_data\n",
    "\n",
    "add a single block (row) to the blockchain\n",
    "\n",
    "> note this code was written for a specific use case, and is not a general purpose function. It is provided as an example of how to use the V2 API\n",
    "use the api_v2.py and it's classes to add blocks to the blockchain\n",
    "\n",
    "```python\n",
    "\n",
    "```"
   ]
  },
  {
   "cell_type": "code",
   "execution_count": null,
   "metadata": {},
   "outputs": [],
   "source": [
    "def add_block_data(input_key):\n",
    "    url = \"http://api.pgbc.info/cgi-bin/pgbc_api//add_block_data?\"\n",
    "    username = \"james\"\n",
    "    password = \"james\"\n",
    "    ddl = encoded_ddl\n",
    "    url = url + f\"username={username}&password={password}&ddl={ddl}\"\n",
    "    \n",
    "\n",
    "    headers = {\n",
    "        \"AUTHORIZATION\": f\"Basic {input_key}\",\n",
    "        \"Referer\": \"OmniIndex Python Connector\",\n",
    "        \"User-Agent\": \"Mozilla/5.0 (Windows NT 10.0; Win64; x64) AppleWebKit/537.36 (KHTML, like Gecko) Chrome/120.0.0.0 Safari/537.36\",\n",
    "    }\n",
    "\n",
    "    try:\n",
    "        response = requests.post(url, headers=headers)\n",
    "        response.raise_for_status()\n",
    "\n",
    "        data = response.text  # Assuming the response is plain text\n",
    "\n",
    "        # Print the response (replace with your desired usage)\n",
    "        print(\"Add Block Data Response:\", data)\n",
    "\n",
    "    except requests.exceptions.RequestException as err:\n",
    "        print(\"Error:\", err)\n",
    "\n",
    "\n",
    "ddl_value = \"INSERT INTO .airport3(airport_id, city, state, nameencrypt) VALUES (10245, 'King Salmon', 'AK', 'King Salmon Airport');\"  # The DDL string you want to send\n",
    "encoded_ddl = ddl_value.replace(\" \", \"%20\")\n",
    "# Call the function with the API key\n",
    "add_block_data(input_key)"
   ]
  },
  {
   "cell_type": "markdown",
   "metadata": {},
   "source": [
    "### Import Function\n",
    "\n",
    "This still requires a bit of hand hacking to get the data into the right format for the API. The following code will import a csv file into the blockchain. It assumes that the first row of the csv file contains the column names, and that the column names match the block schematic for the block type you are importing into.\n",
    "\n",
    "```python"
   ]
  },
  {
   "cell_type": "code",
   "execution_count": 1,
   "metadata": {},
   "outputs": [],
   "source": [
    "import omniindex.api_v2 as api_v2\n",
    "import csv\n",
    "def bulk_import_from_csv(api, csv_file_path):\n",
    "    with open(csv_file_path, 'r') as file:\n",
    "        reader = csv.DictReader(file)\n",
    "        for row in reader:\n",
    "            # Assuming each row contains the necessary data for your DDL statement\n",
    "            # Adjust the following line according to the structure of your CSV and DDL\n",
    "            ddl = f\"INSERT INTO .airport3(airport_id, city, state, nameencrypt) VALUES ('{row['airport_id']}', '{row['city']}', '{row['state']}', '{row['name']}');\"\n",
    "            response = api.add_block_data(ddl)\n",
    "            print(\"Response for row:\", row, \"is:\", response)\n",
    "\n",
    "# Replace 'your_api_key' with the actual API key etc\n",
    "your_api_key = \"UE9TVEdSRVNCQ2luc3RhbmNlPWpP62bhbWVzQG9tbmlpbmRleC5pbyZw12G2cYXNzd29yZD1qY127B2W1lc0BvbW5paW5kZXguP722aW8mc2VydmVyPWxvZ3MucGdiYy5pbmZvJnBvcnQ9NTQzNFBHQkM=\"\n",
    "user_name = \"james\"\n",
    "password = \"james\"\n",
    "\n",
    "api_instance = api_v2.DatabaseAPI(your_api_key, user_name, password)\n",
    "\n",
    "# Replace 'path_to_your_csv_file.csv' with the path to your CSV file\n",
    "bulk_import_from_csv(api_instance, 'airports_bulk.csv')"
   ]
  }
 ],
 "metadata": {
  "kernelspec": {
   "display_name": ".venv",
   "language": "python",
   "name": "python3"
  },
  "language_info": {
   "codemirror_mode": {
    "name": "ipython",
    "version": 3
   },
   "file_extension": ".py",
   "mimetype": "text/x-python",
   "name": "python",
   "nbconvert_exporter": "python",
   "pygments_lexer": "ipython3",
   "version": "3.11.6"
  },
  "orig_nbformat": 4
 },
 "nbformat": 4,
 "nbformat_minor": 2
}
