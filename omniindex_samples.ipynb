{
 "cells": [
  {
   "attachments": {},
   "cell_type": "markdown",
   "metadata": {},
   "source": [
    "# OmniIndex\n",
    "## How to use the omniindex connector for python\n",
    "examples of each api call are provided in the following notebook cells\n",
    "\n",
    "written and maintained by: [**@james stanbridge**](mailto:james@omniindex.io)"
   ]
  },
  {
   "cell_type": "code",
   "execution_count": 1,
   "metadata": {},
   "outputs": [],
   "source": [
    "# mandatory cell\n",
    "# expects omniindex==0.1.12 minimum\n",
    "import json\n",
    "from omniindex.api import OmniIndexClient # this will change in future versions to omniindex.connector\n",
    "import os\n",
    "import pandas as pd\n",
    "import time\n"
   ]
  },
  {
   "attachments": {},
   "cell_type": "markdown",
   "metadata": {},
   "source": [
    "if you want to use another method to set your environment variables, you can do so. This is the recommomended method for use with jupyter notebooks"
   ]
  },
  {
   "cell_type": "code",
   "execution_count": 2,
   "metadata": {},
   "outputs": [],
   "source": [
    "SERVER = os.environ['OI_API_TEST_SERVER'] # maps to server\n",
    "API_KEY = os.environ['OI_API_TEST_API_KEY'] # maps to api_key\n",
    "UNIT_NAME = os.environ['OI_API_TEST_UNIT_NAME']# maps to unit_name\n",
    "USER = os.environ['OI_API_TEST_USER'] # maps to user\n",
    "#\n",
    "BLOCK_TYPE = \"Owner\"\n",
    "MASTER_KEY = os.environ['OI_API_MASTER_KEY_DEMO'] # master key for demonstration"
   ]
  },
  {
   "attachments": {},
   "cell_type": "markdown",
   "metadata": {},
   "source": [
    "Setting up the client:\n",
    "as with all the functions, you need to start with a client object = OmniIndexClient()\n",
    "\n",
    "Parameters\n",
    "- server (str) – The server to connect to. This is the node server for your blockchain\n",
    "- api_key (str) – The api key also know as password for your blockchain\n",
    "- unit_name (str) – The unit name for your blockchain\n",
    "- user (str) – The user name for your blockchain (paired with the api key)\n",
    "- block_type (str) – The block type you want to get the schematic for (typically 'Owner' or 'Global')"
   ]
  },
  {
   "attachments": {},
   "cell_type": "markdown",
   "metadata": {},
   "source": [
    "### get_block_schematic\n",
    "it's useful to know the structure of the block you're working with. This function will return the block schematic for a given block id"
   ]
  },
  {
   "cell_type": "code",
   "execution_count": 3,
   "metadata": {},
   "outputs": [
    {
     "data": {
      "text/plain": [
       "{}"
      ]
     },
     "execution_count": 3,
     "metadata": {},
     "output_type": "execute_result"
    }
   ],
   "source": [
    "client = OmniIndexClient(SERVER, API_KEY, UNIT_NAME, USER, BLOCK_TYPE)\n",
    "block_schematic = client.get_block_schematic()\n",
    "data = json.loads(block_schematic)\n",
    "data"
   ]
  },
  {
   "attachments": {},
   "cell_type": "markdown",
   "metadata": {},
   "source": [
    "generating fake-random data for the examples\n"
   ]
  },
  {
   "cell_type": "code",
   "execution_count": 4,
   "metadata": {},
   "outputs": [],
   "source": [
    "from faker import Faker\n",
    "from faker.providers import internet\n",
    "\"\"\" Creates a fake info for testing purposes\n",
    "    :param lcid: language codes for localisation\n",
    "    :type lcid: list\n",
    "    :return: \n",
    "    \"\"\"\n",
    "\n",
    "def create_info(lcid: list):\n",
    "    # Create a Faker object\n",
    "    fake = Faker(lcid)\n",
    "    \n",
    "    # Generate random data\n",
    "    NAME = fake.name()\n",
    "    ADDRESS = fake.address()\n",
    "    INFO = fake.paragraph(nb_sentences=10, variable_nb_sentences=False)\n",
    "    IPV4 = fake.ipv4()\n",
    "    CREDIT = fake.credit_card_number()\n",
    "    CC_EXP = fake.credit_card_expire()\n",
    "    DOB = str(fake.date_of_birth())\n",
    "    UUID = fake.uuid4()\n",
    "    EMOJI = fake.emoji()\n",
    "    JOB = fake.job()\n",
    "    PHONE = fake.phone_number()\n",
    "    USER_AGENT = fake.user_agent()\n",
    "    \n",
    "    # Create a JSON object\n",
    "    data = {\n",
    "        \"nameEncrypt\": NAME,\n",
    "        \"addressEncrypt\": ADDRESS,\n",
    "        \"infoEncrypt\": INFO,\n",
    "        \"ipv4Encrypt\": IPV4,\n",
    "        \"creditEncrypt\": CREDIT,\n",
    "        \"cc_exp\": CC_EXP,\n",
    "        \"dobEncrypt\": DOB,\n",
    "        \"uuid\": UUID,\n",
    "        \"emoji\": EMOJI,\n",
    "        \"job\": JOB,\n",
    "        \"phone\": PHONE,\n",
    "        \"user_agent\": USER_AGENT\n",
    "    }\n",
    "    \n",
    "    return data\n",
    "\n",
    "\n",
    "    "
   ]
  },
  {
   "cell_type": "code",
   "execution_count": 32,
   "metadata": {},
   "outputs": [
    {
     "data": {
      "text/plain": [
       "{'nameEncrypt': 'Alaaddin Gül',\n",
       " 'addressEncrypt': '719 Aylil Burg\\nNew Melûl, CA 89033',\n",
       " 'infoEncrypt': 'Rerum aliquid quo cumque. Ipsum soluta veritatis blanditiis repudiandae exercitationem. Minima minus cumque commodi perspiciatis itaque odit. Blanditiis ut dolorem culpa distinctio autem dignissimos. Voluptates mollitia dicta. Cumque ut sed. Illum laborum distinctio nobis recusandae repellendus. Expedita omnis aspernatur aspernatur. Tempora placeat cupiditate. Aliquam sunt ut ipsam fugiat.',\n",
       " 'ipv4Encrypt': '201.218.157.233',\n",
       " 'creditEncrypt': '3537647219691171',\n",
       " 'cc_exp': '08/31',\n",
       " 'dobEncrypt': '1964-06-11',\n",
       " 'uuid': '56a62aa2-44cb-4550-b44a-4dfe5a54be80',\n",
       " 'emoji': '🔎',\n",
       " 'job': '映画監督',\n",
       " 'phone': '(090)249 4952',\n",
       " 'user_agent': 'Mozilla/5.0 (Macintosh; U; PPC Mac OS X 10_8_3; rv:1.9.2.20) Gecko/9323-01-29 13:24:07 Firefox/3.6.20'}"
      ]
     },
     "execution_count": 32,
     "metadata": {},
     "output_type": "execute_result"
    }
   ],
   "source": [
    "data = create_info(['tr_TR', 'en_GB', 'ja_JP'])\n",
    "data"
   ]
  },
  {
   "attachments": {},
   "cell_type": "markdown",
   "metadata": {},
   "source": [
    "## minedata\n",
    "\n",
    "Adds a new block to the blockchain.\n",
    "- first cell creates a new, random data payload\n",
    "- second cell adds the data to the blockchain"
   ]
  },
  {
   "cell_type": "code",
   "execution_count": 7,
   "metadata": {},
   "outputs": [
    {
     "name": "stdout",
     "output_type": "stream",
     "text": [
      "payload = {\"nameEncrypt\": \"Sezginba\\u015f Han\\u00e7er\", \"addressEncrypt\": \"58897 F\\u0131rat Corners\\nEvdeburgh, NM 06214\", \"infoEncrypt\": \"\\u72d0\\u5b66\\u751f\\u30af\\u30eb\\u30fc\\u54c1\\u8cea\\u30b3\\u30df\\u30e5\\u30cb\\u30b1\\u30fc\\u30b7\\u30e7\\u30f3\\u6301\\u3064\\u30b3\\u30fc\\u30ca\\u30fc\\u30ea\\u30d5\\u30c8\\u3002\\u63a2\\u67fb\\u5408\\u8a08\\u30b3\\u30df\\u30e5\\u30cb\\u30c6\\u30a3\\u53c2\\u52a0\\u3059\\u308b\\u30ad\\u30e3\\u30d3\\u30cd\\u30c3\\u30c8\\u526f\\u54c1\\u8cea\\u30c8\\u30ea\\u30d3\\u30e5\\u30fc\\u30c8\\u3002\\u8a3c\\u8a00\\u3059\\u308b\\u30dc\\u30c8\\u30eb\\u30b5\\u30e9\\u30c0\\u5968\\u52b1\\u3057\\u307e\\u3059\\u8a66\\u3057\\u3066\\u307f\\u308b\\u30b3\\u30d4\\u30fc\\u30af\\u30ed\\u30b9\\u4fdd\\u8a3c\\u91d1\\u3002\\u5927\\u7d71\\u9818\\u90e8\\u968a\\u30d2\\u30fc\\u30eb\\u3002\\u72ed\\u3044\\u30d6\\u30e9\\u30b1\\u30c3\\u30c8\\u7b26\\u53f7\\u8ef8\\u697d\\u3057\\u3093\\u3067\\u52a9\\u3051\\u3066\\u8a3c\\u8a00\\u3059\\u308b\\u3002\\u697d\\u3057\\u3093\\u3067\\u5fc5\\u8981\\u611f\\u8b1d\\u3059\\u308b\\u30d0\\u30ca\\u30fc\\u3002\\u30ad\\u30e3\\u30d3\\u30f3\\u7ba1\\u7406\\u3059\\u308b\\u30ea\\u30d5\\u30c8\\u30d0\\u30b9\\u30b1\\u30c3\\u30c8\\u3002\\u72af\\u7f6a\\u8005\\u9271\\u5c71\\u30b9\\u30de\\u30c3\\u30b7\\u30e5\\u4e2d\\u592e\\u30c0\\u30a4\\u30e4\\u30e2\\u30f3\\u30c9\\u3002\\u30ea\\u30cf\\u30d3\\u30ea\\u672c\\u8cea\\u7684\\u306a\\u30c8\\u30ec\\u30fc\\u30ca\\u30fc\\u518d\\u73fe\\u3059\\u308b\\u3002\\u5408\\u8a08\\u4fdd\\u6301\\u3059\\u308b\\u30d6\\u30ec\\u30fc\\u30ad\\u547c\\u3076\\u30d5\\u30ec\\u30fc\\u30e0\\u88c5\\u7f6e\\u3002\", \"ipv4Encrypt\": \"109.199.130.223\", \"creditEncrypt\": \"344621854493887\", \"cc_exp\": \"10/26\", \"dobEncrypt\": \"1928-01-12\", \"uuid\": \"38512540-c7a0-4d69-ad1b-f952f27524b4\", \"emoji\": \"\\ud83d\\udd87\\ufe0f\", \"job\": \"Nutritional therapist\", \"phone\": \"+90 (281) 9546848\", \"user_agent\": \"Opera/9.96.(Windows NT 5.01; gl-ES) Presto/2.9.172 Version/12.00\", \"dateAdded\": \"2023-04-28 11:44:56\"}\n"
     ]
    }
   ],
   "source": [
    "# This cell creates a payload (JSON file of records to be added)\n",
    "\n",
    "# it is recommended practice to always add a timestamp to your data\n",
    "DATE_ADDED = time.strftime(\"%Y-%m-%d %H:%M:%S\", time.gmtime())\n",
    "import datetime\n",
    "\n",
    "# OmniIndex JSON parser accepts only string values\n",
    "STAMP = str(datetime.datetime.now().timestamp() * 1000) \n",
    "\n",
    "# setup a payload to add to the block\n",
    "query = create_info(['tr_TR', 'en_GB', 'ja_JP']) # added some localised data just for fun\n",
    "query[\"dateAdded\"] = DATE_ADDED\n",
    "payload = json.dumps(query)\n",
    "print(f\"payload = {payload}\")"
   ]
  },
  {
   "cell_type": "code",
   "execution_count": 8,
   "metadata": {},
   "outputs": [
    {
     "name": "stdout",
     "output_type": "stream",
     "text": [
      "This is the return value: \n"
     ]
    }
   ],
   "source": [
    "\n",
    "# create a client object\n",
    "client = OmniIndexClient(SERVER, API_KEY, UNIT_NAME, BLOCK_TYPE, USER)\n",
    "result = client.post_minedata(MASTER_KEY, payload,)\n",
    "print(f\"This is the return value: {result}\")"
   ]
  },
  {
   "attachments": {},
   "cell_type": "markdown",
   "metadata": {},
   "source": [
    "# APPENDIX\n",
    "## useful tools etc"
   ]
  },
  {
   "attachments": {},
   "cell_type": "markdown",
   "metadata": {},
   "source": [
    "Recipes for generating usernames and passwords"
   ]
  },
  {
   "cell_type": "code",
   "execution_count": 28,
   "metadata": {},
   "outputs": [
    {
     "name": "stdout",
     "output_type": "stream",
     "text": [
      "new username: pattersonveronica\n",
      "new password: 1kASnvMv^X\n",
      "new api key: ebX5x%a*DCTMjXOXQ(StesTVx(gi*5v!\n"
     ]
    }
   ],
   "source": [
    "# Generate a ten-character alphanumeric password with at least one lowercase character, at least one uppercase character, and at least three digits:\n",
    "from faker import Faker\n",
    "\n",
    "\n",
    "def ten_pass():\n",
    "    fake = Faker()\n",
    "    password = fake.password(length=10, special_chars=True, digits=True, upper_case=True, lower_case=True)\n",
    "    return password\n",
    "\n",
    "def user_name():\n",
    "    fake = Faker()\n",
    "    user_name = fake.user_name()\n",
    "    return user_name\n",
    "\n",
    "def pass_key():\n",
    "    fake = Faker()\n",
    "    api_key = fake.password(length=32, special_chars=True, digits=True, upper_case=True, lower_case=True)\n",
    "    return api_key\n",
    "\n",
    "new_user = user_name()\n",
    "new_pass = ten_pass()\n",
    "new_key = pass_key()\n",
    "\n",
    "print(f\"new username: {new_user}\")\n",
    "print(f\"new password: {new_pass}\")\n",
    "print(f\"new api key: {new_key}\")\n"
   ]
  },
  {
   "cell_type": "code",
   "execution_count": 11,
   "metadata": {},
   "outputs": [
    {
     "name": "stdout",
     "output_type": "stream",
     "text": [
      "Client = https://node1.omniindex.xyz/node, 1kASnvMv^X, marketingdept, Owner, pattersonveronica\n"
     ]
    },
    {
     "data": {
      "text/plain": [
       "'1kASnvMvX'"
      ]
     },
     "execution_count": 11,
     "metadata": {},
     "output_type": "execute_result"
    }
   ],
   "source": [
    "print(f\"Client = {client.server}, {client.api_key}, {client.unit_name}, {client.block_type}, {client.user}\")\n",
    "API_KEY"
   ]
  }
 ],
 "metadata": {
  "kernelspec": {
   "display_name": ".venv",
   "language": "python",
   "name": "python3"
  },
  "language_info": {
   "codemirror_mode": {
    "name": "ipython",
    "version": 3
   },
   "file_extension": ".py",
   "mimetype": "text/x-python",
   "name": "python",
   "nbconvert_exporter": "python",
   "pygments_lexer": "ipython3",
   "version": "3.11.3"
  },
  "orig_nbformat": 4
 },
 "nbformat": 4,
 "nbformat_minor": 2
}
