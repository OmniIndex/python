{
 "cells": [
  {
   "attachments": {},
   "cell_type": "markdown",
   "metadata": {},
   "source": [
    "# OmniIndex\n",
    "## How to use the omniindex connector for python\n",
    "examples of each api call are provided in the following notebook cells\n",
    "\n",
    "written and maintained by: [**@james stanbridge**](mailto:james@omniindex.io)\n",
    "\n",
    "Contents:\n",
    "=================\n",
    "- [OmniIndex](#OmniIndex)\n",
    "- [V1 API](#V1-API)\n",
    "    * [get_block_schematic](#get_block_schematic)\n",
    "    * [run_analytic_query](#run_analytic_query)\n",
    "    * [generating fake random data](#generating-fake-random-data)\n",
    "    * [minedata](#minedata)\n",
    "    * [Appendix](#Appendix)\n",
    "- [V2 API](#V2-API)\n"
   ]
  },
  {
   "cell_type": "markdown",
   "metadata": {},
   "source": [
    "## V1 API"
   ]
  },
  {
   "cell_type": "code",
   "execution_count": null,
   "metadata": {},
   "outputs": [],
   "source": [
    "# mandatory cell\n",
    "# expects omniindex==0.1.12 minimum\n",
    "import json\n",
    "from omniindex.api import OmniIndexClient # this will change in future versions to omniindex.connector\n",
    "import os\n",
    "import pandas as pd\n",
    "import time\n"
   ]
  },
  {
   "attachments": {},
   "cell_type": "markdown",
   "metadata": {},
   "source": [
    "if you want to use another method to set your environment variables, you can do so. This is the recommomended method for use with jupyter notebooks"
   ]
  },
  {
   "cell_type": "code",
   "execution_count": null,
   "metadata": {},
   "outputs": [],
   "source": [
    "SERVER = os.environ['OI_API_TEST_SERVER'] # maps to server\n",
    "API_KEY = os.environ['OI_API_TEST_API_KEY'] # maps to api_key\n",
    "UNIT_NAME = os.environ['OI_API_TEST_UNIT_NAME']# maps to unit_name\n",
    "USER = os.environ['OI_API_TEST_USER'] # maps to user\n",
    "#\n",
    "BLOCK_TYPE = \"Owner\"\n",
    "MASTER_KEY = os.environ['OI_API_MASTER_KEY_DEMO'] # master key for demonstration\n",
    "\n",
    "APIserver = \"https://api.omniindex.xyz/api_v1\""
   ]
  },
  {
   "attachments": {},
   "cell_type": "markdown",
   "metadata": {},
   "source": [
    "Setting up the client:\n",
    "as with all the functions, you need to start with a client object = OmniIndexClient()\n",
    "\n",
    "Parameters\n",
    "- server (str) – The server to connect to. This is the node server for your blockchain\n",
    "- api_key (str) – The api key also know as password for your blockchain\n",
    "- unit_name (str) – The unit name for your blockchain\n",
    "- user (str) – The user name for your blockchain (paired with the api key)\n",
    "- block_type (str) – The block type you want to get the schematic for (typically 'Owner' or 'Global')"
   ]
  },
  {
   "attachments": {},
   "cell_type": "markdown",
   "metadata": {},
   "source": [
    "## get_block_schematic\n",
    "it's useful to know the structure of the block you're working with. This function will return the block schematic for a given block id\n",
    "\n",
    "```python\n",
    "get_block_schematic()\n",
    "```"
   ]
  },
  {
   "cell_type": "code",
   "execution_count": null,
   "metadata": {},
   "outputs": [],
   "source": [
    "client = OmniIndexClient(SERVER,API_KEY,UNIT_NAME, BLOCK_TYPE, USER, APIserver)\n",
    "getblock = client.get_block_schematic()\n",
    "getblock\n"
   ]
  },
  {
   "attachments": {},
   "cell_type": "markdown",
   "metadata": {},
   "source": [
    "## run_analytic_query\n",
    "```python\n",
    "run_analytic_query(show_protected, query)\n",
    "```\n",
    "\n",
    "1. Cell shows what a SQL select * query looks like - note that the show_protected parameter is set to true, which means you will get the protected fields unredacted\n",
    "2. Cell shows how to SQL select a COUNT of the number of records in the block"
   ]
  },
  {
   "cell_type": "code",
   "execution_count": null,
   "metadata": {},
   "outputs": [],
   "source": [
    "client = OmniIndexClient(SERVER,API_KEY,UNIT_NAME, BLOCK_TYPE, USER, APIserver)\n",
    "query = client.run_analytic_query(\"true\", \"select * from limit 10 \")\n",
    "query"
   ]
  },
  {
   "cell_type": "code",
   "execution_count": null,
   "metadata": {},
   "outputs": [],
   "source": [
    "client = OmniIndexClient(SERVER,API_KEY,UNIT_NAME, BLOCK_TYPE, USER, APIserver)\n",
    "query = client.run_analytic_query(\"true\", \"select count (*) from \")\n",
    "print(query)"
   ]
  },
  {
   "attachments": {},
   "cell_type": "markdown",
   "metadata": {},
   "source": [
    "generating fake-random data for the examples\n"
   ]
  },
  {
   "cell_type": "code",
   "execution_count": null,
   "metadata": {},
   "outputs": [],
   "source": [
    "from faker import Faker\n",
    "from faker.providers import internet\n",
    "\"\"\" Creates a fake info for testing purposes\n",
    "    :param lcid: language codes for localisation\n",
    "    :type lcid: list\n",
    "    :return: \n",
    "    \"\"\"\n",
    "\n",
    "def create_info(lcid: list):\n",
    "    # Create a Faker object\n",
    "    fake = Faker(lcid)\n",
    "    \n",
    "    # Generate random data\n",
    "    NAME = fake.name()\n",
    "    ADDRESS = fake.address()\n",
    "    INFO = fake.paragraph(nb_sentences=10, variable_nb_sentences=False)\n",
    "    IPV4 = fake.ipv4()\n",
    "    CREDIT = fake.credit_card_number()\n",
    "    CC_EXP = fake.credit_card_expire()\n",
    "    DOB = str(fake.date_of_birth())\n",
    "    UUID = fake.uuid4()\n",
    "    EMOJI = fake.emoji()\n",
    "    JOB = fake.job()\n",
    "    PHONE = fake.phone_number()\n",
    "    USER_AGENT = fake.user_agent()\n",
    "    \n",
    "    # Create a JSON object\n",
    "    data = {\n",
    "        \"nameEncrypt\": NAME,\n",
    "        \"addressEncrypt\": ADDRESS,\n",
    "        \"infoEncrypt\": INFO,\n",
    "        \"ipv4Encrypt\": IPV4,\n",
    "        \"creditEncrypt\": CREDIT,\n",
    "        \"cc_exp\": CC_EXP,\n",
    "        \"dobEncrypt\": DOB,\n",
    "        \"uuid\": UUID,\n",
    "        \"emoji\": EMOJI,\n",
    "        \"job\": JOB,\n",
    "        \"phone\": PHONE,\n",
    "        \"user_agent\": USER_AGENT\n",
    "    }\n",
    "    \n",
    "    return data\n",
    "\n",
    "\n",
    "    "
   ]
  },
  {
   "cell_type": "code",
   "execution_count": null,
   "metadata": {},
   "outputs": [],
   "source": [
    "data = create_info(['tr_TR', 'en_GB', 'ja_JP'])\n",
    "data"
   ]
  },
  {
   "attachments": {},
   "cell_type": "markdown",
   "metadata": {},
   "source": [
    "## minedata\n",
    "\n",
    "Adds a new block to the blockchain.\n",
    "- first cell creates a new, random data payload\n",
    "- second cell adds the data to the blockchain"
   ]
  },
  {
   "cell_type": "code",
   "execution_count": null,
   "metadata": {},
   "outputs": [],
   "source": [
    "# This cell creates a payload (JSON file of records to be added)\n",
    "\n",
    "# it is recommended practice to always add a timestamp to your data\n",
    "DATE_ADDED = time.strftime(\"%Y-%m-%d %H:%M:%S\", time.gmtime())\n",
    "import datetime\n",
    "\n",
    "# OmniIndex JSON parser accepts only string values\n",
    "STAMP = str(datetime.datetime.now().timestamp() * 1000) \n",
    "\n",
    "# setup a payload to add to the block\n",
    "query = create_info(['tr_TR', 'en_GB', 'ja_JP']) # added some localised data just for fun\n",
    "query[\"dateAdded\"] = DATE_ADDED\n",
    "payload = json.dumps(query)\n",
    "print(f\"payload = {payload}\")"
   ]
  },
  {
   "cell_type": "code",
   "execution_count": null,
   "metadata": {},
   "outputs": [],
   "source": [
    "\n",
    "# create a client object\n",
    "client = OmniIndexClient(SERVER, API_KEY, UNIT_NAME, BLOCK_TYPE, USER, APIserver)\n",
    "result = client.post_minedata(MASTER_KEY, payload,)\n",
    "print(f\"This is the return value: {result}\")"
   ]
  },
  {
   "attachments": {},
   "cell_type": "markdown",
   "metadata": {},
   "source": [
    "# APPENDIX\n",
    "## useful tools etc"
   ]
  },
  {
   "attachments": {},
   "cell_type": "markdown",
   "metadata": {},
   "source": [
    "Recipes for generating usernames and passwords"
   ]
  },
  {
   "cell_type": "code",
   "execution_count": null,
   "metadata": {},
   "outputs": [],
   "source": [
    "# Generate a ten-character alphanumeric password with at least one lowercase character, at least one uppercase character, and at least three digits:\n",
    "from faker import Faker\n",
    "\n",
    "\n",
    "def ten_pass():\n",
    "    fake = Faker()\n",
    "    password = fake.password(length=10, special_chars=True, digits=True, upper_case=True, lower_case=True)\n",
    "    return password\n",
    "\n",
    "def user_name():\n",
    "    fake = Faker()\n",
    "    user_name = fake.user_name()\n",
    "    return user_name\n",
    "\n",
    "def pass_key():\n",
    "    fake = Faker()\n",
    "    api_key = fake.password(length=32, special_chars=True, digits=True, upper_case=True, lower_case=True)\n",
    "    return api_key\n",
    "\n",
    "new_user = user_name()\n",
    "new_pass = ten_pass()\n",
    "new_key = pass_key()\n",
    "\n",
    "print(f\"new username: {new_user}\")\n",
    "print(f\"new password: {new_pass}\")\n",
    "print(f\"new api key: {new_key}\")\n"
   ]
  },
  {
   "cell_type": "markdown",
   "metadata": {},
   "source": [
    "## V2 API"
   ]
  },
  {
   "cell_type": "markdown",
   "metadata": {},
   "source": [
    "Basic and pgbc credentials are required to use the V2 API. These are available from the OmniIndex team.\n",
    "\n"
   ]
  },
  {
   "cell_type": "code",
   "execution_count": 2,
   "metadata": {},
   "outputs": [
    {
     "name": "stdout",
     "output_type": "stream",
     "text": [
      "True\n",
      "True\n",
      "PGBCCredentials(dataSource=my_db, username=admin, password=password, server=localhost, port=5434)\n",
      "admin\n"
     ]
    }
   ],
   "source": [
    "from omniindex.api import OmniIndex\n",
    "from omniindex.api_credentials import APICredentials # this is the v2 connector\n",
    "from omniindex.credentials import BasicCredentials\n",
    "from omniindex.pgbc_credentials import PGBCCredentials\n",
    "import psycopg2\n",
    "\n",
    "\n",
    "credentials = BasicCredentials(username='admin', password='password')\n",
    "print(credentials.are_valid())  # Output: True\n",
    "\n",
    "\n",
    "credentials = PGBCCredentials(data_source='my_db', username='admin', password='password', server='localhost', port=5434)\n",
    "print(credentials.are_valid())  # Output: True\n",
    "print(credentials)  # Output: PGBCCredentials(dataSource=my_db, username=admin, password=password, server=localhost, port=5432)\n",
    "\n",
    "omniIndex = OmniIndex.with_pgbc_credentials(credentials)\n",
    "print(omniIndex._credentials.username)  # Output: test-node-server.io"
   ]
  }
 ],
 "metadata": {
  "kernelspec": {
   "display_name": ".venv",
   "language": "python",
   "name": "python3"
  },
  "language_info": {
   "codemirror_mode": {
    "name": "ipython",
    "version": 3
   },
   "file_extension": ".py",
   "mimetype": "text/x-python",
   "name": "python",
   "nbconvert_exporter": "python",
   "pygments_lexer": "ipython3",
   "version": "3.11.6"
  },
  "orig_nbformat": 4
 },
 "nbformat": 4,
 "nbformat_minor": 2
}
